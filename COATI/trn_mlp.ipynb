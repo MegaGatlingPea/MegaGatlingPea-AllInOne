{
 "cells": [
  {
   "cell_type": "code",
   "execution_count": 1,
   "metadata": {},
   "outputs": [
    {
     "name": "stdout",
     "output_type": "stream",
     "text": [
      "Loading model from ./models/grande_closed.pkl\n",
      "Loading tokenizer may_closedparen from ./models/grande_closed.pkl\n",
      "number of parameters: 12.64M\n",
      "number of parameters Total: 2.44M xformer: 17.92M Total: 20.36M \n",
      "vocab_name not found in tokenizer_vocabs, trying to load from file\n",
      "Freezing encoder\n",
      "20561664 params frozen!\n",
      "Tokenizer已成功保存为'tokenizer.pkl'\n"
     ]
    }
   ],
   "source": [
    "from coati.models.io.coati import load_e3gnn_smiles_clip_e2e\n",
    "\n",
    "encoder, tokenizer = load_e3gnn_smiles_clip_e2e(\n",
    "            freeze=True,  # Ensure encoder is not frozen\n",
    "            doc_url=\"./models/grande_closed.pkl\",\n",
    "        )\n",
    "\n",
    "import pickle\n",
    "\n",
    "# 将tokenizer保存为序列化的文件\n",
    "with open('tokenizer.pkl', 'wb') as f:\n",
    "    pickle.dump(tokenizer, f)\n",
    "\n",
    "print(\"Tokenizer已成功保存为'tokenizer.pkl'\")\n"
   ]
  }
 ],
 "metadata": {
  "kernelspec": {
   "display_name": "ecloudgen",
   "language": "python",
   "name": "python3"
  },
  "language_info": {
   "codemirror_mode": {
    "name": "ipython",
    "version": 3
   },
   "file_extension": ".py",
   "mimetype": "text/x-python",
   "name": "python",
   "nbconvert_exporter": "python",
   "pygments_lexer": "ipython3",
   "version": "3.9.19"
  }
 },
 "nbformat": 4,
 "nbformat_minor": 2
}
