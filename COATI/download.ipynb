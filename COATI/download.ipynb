{
 "cells": [
  {
   "cell_type": "code",
   "execution_count": 2,
   "metadata": {},
   "outputs": [
    {
     "name": "stdout",
     "output_type": "stream",
     "text": [
      "Downloading models/grande_closed.pkl from terray-public\n",
      "File downloaded successfully to ./models/grande_closed.pkl\n"
     ]
    },
    {
     "data": {
      "text/plain": [
       "dict_keys(['raw_smiles', 'smiles', 'partition', 'dataset', 'atoms', 'coords', 'target', 'Barlow Venti (Text)', 'Barlow Venti (Point)', 'Grande Open (Text)', 'Grande Open (Point)', 'Tall Closed (Text)', 'Tall Closed (Point)', 'Barlow Closed (Text)', 'Barlow Closed (Point)', 'Grande Closed (Text)', 'Grande Closed (Point)', 'Barlow Closed FP (Text)', 'Barlow Closed FP (Point)', 'RDKit 2D', 'RDKit FP', 'ECFP6 2048', 'CDDD', 'ChemBERTa MTR', 'MegaMolBART', 'ChemGPT', 'CLAMP', 'source'])"
      ]
     },
     "execution_count": 2,
     "metadata": {},
     "output_type": "execute_result"
    }
   ],
   "source": [
    "import pickle\n",
    "from coati.common.s3 import download_from_s3\n",
    "\n",
    "download_from_s3(\"s3://terray-public/models/grande_closed.pkl\")\n",
    "\n",
    "# datasets are available as pickle files (list of dictionaries)\n",
    "with open(\"./datasets/delaney.pkl\", \"rb\") as f:\n",
    "    delaney = pickle.load(f)\n",
    "\n",
    "delaney[0].keys()"
   ]
  },
  {
   "cell_type": "code",
   "execution_count": 7,
   "metadata": {},
   "outputs": [
    {
     "name": "stdout",
     "output_type": "stream",
     "text": [
      "Loading model from /home/megagatlingpea/workdir/COATI/models/grande_closed.pkl\n",
      "Loading tokenizer may_closedparen from /home/megagatlingpea/workdir/COATI/models/grande_closed.pkl\n",
      "number of parameters: 12.64M\n",
      "number of parameters Total: 2.44M xformer: 17.92M Total: 20.36M \n",
      "vocab_name not found in tokenizer_vocabs, trying to load from file\n",
      "Freezing encoder\n",
      "20561664 params frozen!\n"
     ]
    }
   ],
   "source": [
    "import torch\n",
    "from coati.models.io.coati import load_e3gnn_smiles_clip_e2e\n",
    "\n",
    "encoder, tokenizer = load_e3gnn_smiles_clip_e2e(\n",
    "    freeze=True,\n",
    "    device=torch.device(\"cuda:0\"),\n",
    "    # model parameters to load.\n",
    "    doc_url='/home/megagatlingpea/workdir/COATI/models/grande_closed.pkl',\n",
    ")"
   ]
  }
 ],
 "metadata": {
  "kernelspec": {
   "display_name": "ecloudgen",
   "language": "python",
   "name": "python3"
  },
  "language_info": {
   "codemirror_mode": {
    "name": "ipython",
    "version": 3
   },
   "file_extension": ".py",
   "mimetype": "text/x-python",
   "name": "python",
   "nbconvert_exporter": "python",
   "pygments_lexer": "ipython3",
   "version": "3.9.19"
  }
 },
 "nbformat": 4,
 "nbformat_minor": 2
}
