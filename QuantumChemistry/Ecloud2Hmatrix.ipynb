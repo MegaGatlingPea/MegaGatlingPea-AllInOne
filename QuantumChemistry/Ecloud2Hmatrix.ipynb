{
 "cells": [
  {
   "cell_type": "code",
   "execution_count": 20,
   "metadata": {},
   "outputs": [
    {
     "name": "stdout",
     "output_type": "stream",
     "text": [
      "converged SCF energy = -76.4197104629625\n"
     ]
    }
   ],
   "source": [
    "import numpy as np\n",
    "from pyscf import gto, scf, dft\n",
    "\n",
    "# define a sample water mole object\n",
    "mol = gto.Mole()\n",
    "mol.atom = '''\n",
    "O 0 0 0\n",
    "H 0 0 0.96\n",
    "H 0.91585 0 -0.31202\n",
    "'''\n",
    "mol.basis = 'cc-pvdz'\n",
    "mol.build()\n",
    "\n",
    "# calculate by dft\n",
    "mf = dft.RKS(mol)\n",
    "mf.xc = 'b3lyp'\n",
    "mf.kernel()\n",
    "\n",
    "# Ecloud matrix\n",
    "dm = mf.make_rdm1()\n",
    "\n",
    "# reconstruct fock matrix\n",
    "fock = mf.get_fock(dm=dm)\n",
    "\n",
    "# overlap matrix\n",
    "# s = mf.get_ovlp()\n",
    "\n",
    "# reconstruct H matrix\n",
    "h = fock - mf.get_veff(dm=dm)\n",
    "\n",
    "# h matrix by Hartree-Fock\n",
    "mf_hf = scf.RHF(mol)\n",
    "h_core = mf_hf.get_hcore()"
   ]
  },
  {
   "cell_type": "code",
   "execution_count": 21,
   "metadata": {},
   "outputs": [
    {
     "name": "stdout",
     "output_type": "stream",
     "text": [
      "MAE between h_core and h: 1.5069462851719055e-16\n"
     ]
    }
   ],
   "source": [
    "diff = np.abs(h_core - h)\n",
    "mae = np.mean(diff)\n",
    "print(f\"MAE between h_core and h: {mae}\")"
   ]
  },
  {
   "cell_type": "code",
   "execution_count": 22,
   "metadata": {},
   "outputs": [
    {
     "name": "stdout",
     "output_type": "stream",
     "text": [
      "num_electrons: 10\n",
      "num_basis: 24\n",
      "h_core_dim: (24, 24)\n"
     ]
    }
   ],
   "source": [
    "print(f\"num_electrons: {mol.nelectron}\")\n",
    "print(f\"num_basis: {mol.nao}\")\n",
    "print(f\"h_core_dim: {h_core.shape}\")"
   ]
  }
 ],
 "metadata": {
  "kernelspec": {
   "display_name": "quantum",
   "language": "python",
   "name": "python3"
  },
  "language_info": {
   "codemirror_mode": {
    "name": "ipython",
    "version": 3
   },
   "file_extension": ".py",
   "mimetype": "text/x-python",
   "name": "python",
   "nbconvert_exporter": "python",
   "pygments_lexer": "ipython3",
   "version": "3.11.9"
  }
 },
 "nbformat": 4,
 "nbformat_minor": 2
}
