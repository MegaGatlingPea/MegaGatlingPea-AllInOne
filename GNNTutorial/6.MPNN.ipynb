{
 "cells": [
  {
   "cell_type": "markdown",
   "metadata": {},
   "source": [
    "# <center> 消息传递神经网络\n",
    "\n",
    "## 一、基本框架\n",
    "消息传递神经网络的框架由四个函数组成：消息函数、聚合函数、更新函数和读出函数。\n",
    "\n",
    "1. 消息函数：定义了两个邻接节点之间的消息传递方式。写为$$m_{uv}^{t+1}=\\mathrm{Msg}(h_u^t,h_v^t,e_{uv}),~u\\in N(v)$$其中$u$是节点$v$的邻接节点，$h_u^t$和$h_v^t$是节点$u$和$v$在第$t$层的特征表示，$e_{uv}$是节点$u$和$v$之间的边特征。\n",
    "\n",
    "2. 聚合函数：将节点$v$的所有邻接节点的消息聚合起来，得到节点$v$的新特征表示。写为$$m_v^{t+1}=\\mathrm{Agg}(\\{m_{uv}^{t+1},u\\in N(v)\\})$$\n",
    "\n",
    "3. 更新函数：根据节点$v$在第$t$层的特征表示$h_v^t$和在第$t+1$层的消息表示$m_v^{t+1}$更新节点$v$在第$t+1$层的特征表示。写为$$h_v^{t+1}=\\mathrm{Update}(h_v^t,m_v^{t+1})$$\n",
    "\n",
    "4. 读出函数：将$T$层节点$v$的特征表示$h_v^T$映射到标签空间。写为$$\\hat{y}_v=\\mathrm{Readout}(h_v^T)$$\n",
    "\n",
    "通过将这几类函数进行堆叠，我们可以基于MPNN的框架设计出不同的神经网络。"
   ]
  },
  {
   "cell_type": "markdown",
   "metadata": {},
   "source": [
    "## 二、GCN\n",
    "GCN是MPNN的一个特例，根据前面notebook的描述，其消息函数、聚合函数、更新函数和读出函数分别为：\n",
    "\n",
    "1. 消息函数：$$m_{uv}^{t+1}=h_u^t$$\n",
    "   \n",
    "2. 聚合函数：$$m_v^{t+1}=\\sum_{u\\in N(v)}\\frac{\\widetilde{A}_{uv}}{\\sqrt{\\widetilde{D}_{uu}\\widetilde{D}_{vv}}}m_{uv}^{t+1}$$\n",
    "   \n",
    "3. 更新函数：$$h_v^{t+1}=\\sigma((\\frac{\\widetilde{A}_{vv}}{\\widetilde{D}_{vv}}h_v^t+m_v^{t+1})W^t)$$\n",
    "   \n",
    "4. 读出函数（以图分类任务为例）：$$\\hat{y}_v=\\mathrm{Softmax}(h_v^T)$$"
   ]
  },
  {
   "cell_type": "markdown",
   "metadata": {},
   "source": [
    "## 三、GAT\n",
    "1. 消息函数：$$m_{uv}^{t+1}=\\alpha_{uv}^{t+1}h_u^t,~\\alpha_{uv}^{t+1} = \\frac{\\exp(\\mathrm{LeakyReLU}(W_2^t[WH_v^{t}||WH_u^{t}]))}{\\sum_{l \\in N(v)}\\exp(\\mathrm{LeakyReLU}(W_2^t[WH_v^{t}||WH_l^{t}]))}$$\n",
    "\n",
    "2. 聚合函数：$$m_v^{t+1}=\\sum_{u\\in N(v)}m_{uv}^{t+1}$$\n",
    "\n",
    "3. 更新函数：$$h_v^{t+1}=\\sigma(m_{v}^{t+1}W^t)$$ \n",
    "   \n",
    "4. 读出函数（以图分类任务为例）：$$\\hat{y}_v=\\mathrm{Softmax}(h_v^T)$$\n",
    "   \n",
    "GAT这里的更新函数可以考虑节点本身也可以不考虑节点本身，如果考虑节点本身，则消息函数中的注意力分数计算以及第二步聚合函数中要将$u$的范围变更为$u \\in \\{N(v) \\cup v\\}$"
   ]
  },
  {
   "cell_type": "markdown",
   "metadata": {},
   "source": [
    "## 四、GraphSAGE\n",
    "1. 消息函数：$$m_{uv}^{t+1}=h_u^t$$\n",
    "2. 聚合函数：$$m_v^{t+1}=\\mathrm{Concat}(\\{m_{uv}^{t+1},u\\in N(v)\\})$$\n",
    "3. 更新函数：$$h_v^{t+1}=\\sigma(\\mathrm{AggFunc}(m_v^{t+1}))$$\n",
    "4. 读出函数（以图分类任务为例）：$$\\hat{y}_v=\\mathrm{Softmax}(h_v^T)$$"
   ]
  },
  {
   "cell_type": "markdown",
   "metadata": {},
   "source": [
    "## 五、GIN\n",
    "1. 消息函数：$$m_{uv}^{t+1}=h_u^t$$\n",
    "2. 聚合函数：$$m_v^{t+1}=\\sum_{u\\in N(v)}m_{uv}^{t+1}$$\n",
    "3. 更新函数：$$h_v^{t+1}=\\mathrm{MLP}((1+\\varepsilon^{t})·h_v^t + m_v^{t+1})$$\n",
    "4. 读出函数（以图分类任务为例）：$$\\hat{y}_v=\\mathrm{Softmax}(h_v^T)$$"
   ]
  }
 ],
 "metadata": {
  "language_info": {
   "name": "python"
  }
 },
 "nbformat": 4,
 "nbformat_minor": 2
}
