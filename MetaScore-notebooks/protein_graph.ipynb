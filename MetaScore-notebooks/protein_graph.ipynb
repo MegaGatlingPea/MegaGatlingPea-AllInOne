{
 "cells": [
  {
   "cell_type": "code",
   "execution_count": 1,
   "metadata": {},
   "outputs": [
    {
     "data": {
      "text/html": [
       "<pre style=\"white-space:pre;overflow-x:auto;line-height:normal;font-family:Menlo,'DejaVu Sans Mono',consolas,'Courier New',monospace\"><span style=\"color: #7fbfbf; text-decoration-color: #7fbfbf\">[09/09/24 18:58:39] </span><span style=\"color: #800000; text-decoration-color: #800000\">WARNING </span> To use the Graphein submodule                                         <a href=\"file:///mnt/data/miniforge3/envs/onebind/lib/python3.9/site-packages/graphein/protein/features/sequence/embeddings.py\" target=\"_blank\"><span style=\"color: #7f7f7f; text-decoration-color: #7f7f7f\">embeddings.py</span></a><span style=\"color: #7f7f7f; text-decoration-color: #7f7f7f\">:</span><a href=\"file:///mnt/data/miniforge3/envs/onebind/lib/python3.9/site-packages/graphein/protein/features/sequence/embeddings.py#45\" target=\"_blank\"><span style=\"color: #7f7f7f; text-decoration-color: #7f7f7f\">45</span></a>\n",
       "<span style=\"color: #7fbfbf; text-decoration-color: #7fbfbf\">                    </span>         graphein.protein.features.sequence.embeddings, you need to install:   <span style=\"color: #7f7f7f; text-decoration-color: #7f7f7f\">                </span>\n",
       "<span style=\"color: #7fbfbf; text-decoration-color: #7fbfbf\">                    </span>         biovec                                                                <span style=\"color: #7f7f7f; text-decoration-color: #7f7f7f\">                </span>\n",
       "<span style=\"color: #7fbfbf; text-decoration-color: #7fbfbf\">                    </span>         biovec cannot be installed via conda                                  <span style=\"color: #7f7f7f; text-decoration-color: #7f7f7f\">                </span>\n",
       "<span style=\"color: #7fbfbf; text-decoration-color: #7fbfbf\">                    </span>         Alternatively, you can install graphein with the extras:              <span style=\"color: #7f7f7f; text-decoration-color: #7f7f7f\">                </span>\n",
       "<span style=\"color: #7fbfbf; text-decoration-color: #7fbfbf\">                    </span>                                                                               <span style=\"color: #7f7f7f; text-decoration-color: #7f7f7f\">                </span>\n",
       "<span style=\"color: #7fbfbf; text-decoration-color: #7fbfbf\">                    </span>         pip install graphein<span style=\"font-weight: bold\">[</span>extras<span style=\"font-weight: bold\">]</span>                                          <span style=\"color: #7f7f7f; text-decoration-color: #7f7f7f\">                </span>\n",
       "</pre>\n"
      ],
      "text/plain": [
       "\u001b[2;36m[09/09/24 18:58:39]\u001b[0m\u001b[2;36m \u001b[0m\u001b[31mWARNING \u001b[0m To use the Graphein submodule                                         \u001b]8;id=461368;file:///mnt/data/miniforge3/envs/onebind/lib/python3.9/site-packages/graphein/protein/features/sequence/embeddings.py\u001b\\\u001b[2membeddings.py\u001b[0m\u001b]8;;\u001b\\\u001b[2m:\u001b[0m\u001b]8;id=350981;file:///mnt/data/miniforge3/envs/onebind/lib/python3.9/site-packages/graphein/protein/features/sequence/embeddings.py#45\u001b\\\u001b[2m45\u001b[0m\u001b]8;;\u001b\\\n",
       "\u001b[2;36m                    \u001b[0m         graphein.protein.features.sequence.embeddings, you need to install:   \u001b[2m                \u001b[0m\n",
       "\u001b[2;36m                    \u001b[0m         biovec                                                                \u001b[2m                \u001b[0m\n",
       "\u001b[2;36m                    \u001b[0m         biovec cannot be installed via conda                                  \u001b[2m                \u001b[0m\n",
       "\u001b[2;36m                    \u001b[0m         Alternatively, you can install graphein with the extras:              \u001b[2m                \u001b[0m\n",
       "\u001b[2;36m                    \u001b[0m                                                                               \u001b[2m                \u001b[0m\n",
       "\u001b[2;36m                    \u001b[0m         pip install graphein\u001b[1m[\u001b[0mextras\u001b[1m]\u001b[0m                                          \u001b[2m                \u001b[0m\n"
      ]
     },
     "metadata": {},
     "output_type": "display_data"
    },
    {
     "data": {
      "application/vnd.jupyter.widget-view+json": {
       "model_id": "858c8d7fffc1445a941f927a26b34037",
       "version_major": 2,
       "version_minor": 0
      },
      "text/plain": [
       "Output()"
      ]
     },
     "metadata": {},
     "output_type": "display_data"
    },
    {
     "data": {
      "text/html": [
       "<pre style=\"white-space:pre;overflow-x:auto;line-height:normal;font-family:Menlo,'DejaVu Sans Mono',consolas,'Courier New',monospace\"><span style=\"color: #7fbfbf; text-decoration-color: #7fbfbf\">[09/09/24 18:58:42] </span><span style=\"color: #008000; text-decoration-color: #008000\">DEBUG   </span> Deprotonating protein. This removes H atoms from the pdb_df dataframe    <a href=\"file:///mnt/data/miniforge3/envs/onebind/lib/python3.9/site-packages/graphein/protein/graphs.py\" target=\"_blank\"><span style=\"color: #7f7f7f; text-decoration-color: #7f7f7f\">graphs.py</span></a><span style=\"color: #7f7f7f; text-decoration-color: #7f7f7f\">:</span><a href=\"file:///mnt/data/miniforge3/envs/onebind/lib/python3.9/site-packages/graphein/protein/graphs.py#188\" target=\"_blank\"><span style=\"color: #7f7f7f; text-decoration-color: #7f7f7f\">188</span></a>\n",
       "</pre>\n"
      ],
      "text/plain": [
       "\u001b[2;36m[09/09/24 18:58:42]\u001b[0m\u001b[2;36m \u001b[0m\u001b[32mDEBUG   \u001b[0m Deprotonating protein. This removes H atoms from the pdb_df dataframe    \u001b]8;id=16976;file:///mnt/data/miniforge3/envs/onebind/lib/python3.9/site-packages/graphein/protein/graphs.py\u001b\\\u001b[2mgraphs.py\u001b[0m\u001b]8;;\u001b\\\u001b[2m:\u001b[0m\u001b]8;id=660322;file:///mnt/data/miniforge3/envs/onebind/lib/python3.9/site-packages/graphein/protein/graphs.py#188\u001b\\\u001b[2m188\u001b[0m\u001b]8;;\u001b\\\n"
      ]
     },
     "metadata": {},
     "output_type": "display_data"
    },
    {
     "data": {
      "text/html": [
       "<pre style=\"white-space:pre;overflow-x:auto;line-height:normal;font-family:Menlo,'DejaVu Sans Mono',consolas,'Courier New',monospace\"><span style=\"color: #7fbfbf; text-decoration-color: #7fbfbf\">                    </span><span style=\"color: #008000; text-decoration-color: #008000\">DEBUG   </span> Detected <span style=\"color: #008080; text-decoration-color: #008080; font-weight: bold\">284</span> total nodes                                                 <a href=\"file:///mnt/data/miniforge3/envs/onebind/lib/python3.9/site-packages/graphein/protein/graphs.py\" target=\"_blank\"><span style=\"color: #7f7f7f; text-decoration-color: #7f7f7f\">graphs.py</span></a><span style=\"color: #7f7f7f; text-decoration-color: #7f7f7f\">:</span><a href=\"file:///mnt/data/miniforge3/envs/onebind/lib/python3.9/site-packages/graphein/protein/graphs.py#435\" target=\"_blank\"><span style=\"color: #7f7f7f; text-decoration-color: #7f7f7f\">435</span></a>\n",
       "</pre>\n"
      ],
      "text/plain": [
       "\u001b[2;36m                   \u001b[0m\u001b[2;36m \u001b[0m\u001b[32mDEBUG   \u001b[0m Detected \u001b[1;36m284\u001b[0m total nodes                                                 \u001b]8;id=871979;file:///mnt/data/miniforge3/envs/onebind/lib/python3.9/site-packages/graphein/protein/graphs.py\u001b\\\u001b[2mgraphs.py\u001b[0m\u001b]8;;\u001b\\\u001b[2m:\u001b[0m\u001b]8;id=267225;file:///mnt/data/miniforge3/envs/onebind/lib/python3.9/site-packages/graphein/protein/graphs.py#435\u001b\\\u001b[2m435\u001b[0m\u001b]8;;\u001b\\\n"
      ]
     },
     "metadata": {},
     "output_type": "display_data"
    },
    {
     "data": {
      "text/html": [
       "<pre style=\"white-space:pre;overflow-x:auto;line-height:normal;font-family:Menlo,'DejaVu Sans Mono',consolas,'Courier New',monospace\"><span style=\"color: #7fbfbf; text-decoration-color: #7fbfbf\">                    </span><span style=\"color: #008000; text-decoration-color: #008000\">DEBUG   </span> Reading meiler embeddings from:                                       <a href=\"file:///mnt/data/miniforge3/envs/onebind/lib/python3.9/site-packages/graphein/protein/features/nodes/amino_acid.py\" target=\"_blank\"><span style=\"color: #7f7f7f; text-decoration-color: #7f7f7f\">amino_acid.py</span></a><span style=\"color: #7f7f7f; text-decoration-color: #7f7f7f\">:</span><a href=\"file:///mnt/data/miniforge3/envs/onebind/lib/python3.9/site-packages/graphein/protein/features/nodes/amino_acid.py#58\" target=\"_blank\"><span style=\"color: #7f7f7f; text-decoration-color: #7f7f7f\">58</span></a>\n",
       "<span style=\"color: #7fbfbf; text-decoration-color: #7fbfbf\">                    </span>         <span style=\"color: #800080; text-decoration-color: #800080\">/mnt/data/miniforge3/envs/onebind/lib/python3.9/site-packages/graphei</span> <span style=\"color: #7f7f7f; text-decoration-color: #7f7f7f\">                </span>\n",
       "<span style=\"color: #7fbfbf; text-decoration-color: #7fbfbf\">                    </span>         <span style=\"color: #800080; text-decoration-color: #800080\">n/protein/features/nodes/</span><span style=\"color: #ff00ff; text-decoration-color: #ff00ff\">meiler_embeddings.csv</span>                        <span style=\"color: #7f7f7f; text-decoration-color: #7f7f7f\">                </span>\n",
       "</pre>\n"
      ],
      "text/plain": [
       "\u001b[2;36m                   \u001b[0m\u001b[2;36m \u001b[0m\u001b[32mDEBUG   \u001b[0m Reading meiler embeddings from:                                       \u001b]8;id=786987;file:///mnt/data/miniforge3/envs/onebind/lib/python3.9/site-packages/graphein/protein/features/nodes/amino_acid.py\u001b\\\u001b[2mamino_acid.py\u001b[0m\u001b]8;;\u001b\\\u001b[2m:\u001b[0m\u001b]8;id=79768;file:///mnt/data/miniforge3/envs/onebind/lib/python3.9/site-packages/graphein/protein/features/nodes/amino_acid.py#58\u001b\\\u001b[2m58\u001b[0m\u001b]8;;\u001b\\\n",
       "\u001b[2;36m                    \u001b[0m         \u001b[35m/mnt/data/miniforge3/envs/onebind/lib/python3.9/site-packages/graphei\u001b[0m \u001b[2m                \u001b[0m\n",
       "\u001b[2;36m                    \u001b[0m         \u001b[35mn/protein/features/nodes/\u001b[0m\u001b[95mmeiler_embeddings.csv\u001b[0m                        \u001b[2m                \u001b[0m\n"
      ]
     },
     "metadata": {},
     "output_type": "display_data"
    },
    {
     "data": {
      "text/html": [
       "<pre style=\"white-space:pre;overflow-x:auto;line-height:normal;font-family:Menlo,'DejaVu Sans Mono',consolas,'Courier New',monospace\"><span style=\"color: #7fbfbf; text-decoration-color: #7fbfbf\">                    </span><span style=\"color: #000080; text-decoration-color: #000080\">INFO    </span> Found: <span style=\"color: #008080; text-decoration-color: #008080; font-weight: bold\">2912</span> distance edges                                             <a href=\"file:///mnt/data/miniforge3/envs/onebind/lib/python3.9/site-packages/graphein/protein/edges/distance.py\" target=\"_blank\"><span style=\"color: #7f7f7f; text-decoration-color: #7f7f7f\">distance.py</span></a><span style=\"color: #7f7f7f; text-decoration-color: #7f7f7f\">:</span><a href=\"file:///mnt/data/miniforge3/envs/onebind/lib/python3.9/site-packages/graphein/protein/edges/distance.py#964\" target=\"_blank\"><span style=\"color: #7f7f7f; text-decoration-color: #7f7f7f\">964</span></a>\n",
       "</pre>\n"
      ],
      "text/plain": [
       "\u001b[2;36m                   \u001b[0m\u001b[2;36m \u001b[0m\u001b[34mINFO    \u001b[0m Found: \u001b[1;36m2912\u001b[0m distance edges                                             \u001b]8;id=274335;file:///mnt/data/miniforge3/envs/onebind/lib/python3.9/site-packages/graphein/protein/edges/distance.py\u001b\\\u001b[2mdistance.py\u001b[0m\u001b]8;;\u001b\\\u001b[2m:\u001b[0m\u001b]8;id=700285;file:///mnt/data/miniforge3/envs/onebind/lib/python3.9/site-packages/graphein/protein/edges/distance.py#964\u001b\\\u001b[2m964\u001b[0m\u001b]8;;\u001b\\\n"
      ]
     },
     "metadata": {},
     "output_type": "display_data"
    },
    {
     "data": {
      "text/html": [
       "<pre style=\"white-space:pre;overflow-x:auto;line-height:normal;font-family:Menlo,'DejaVu Sans Mono',consolas,'Courier New',monospace\"><span style=\"color: #7fbfbf; text-decoration-color: #7fbfbf\">                    </span><span style=\"color: #000080; text-decoration-color: #000080\">INFO    </span> Added <span style=\"color: #008080; text-decoration-color: #008080; font-weight: bold\">2912</span> distance edges. <span style=\"font-weight: bold\">(</span><span style=\"color: #008080; text-decoration-color: #008080; font-weight: bold\">0</span>            removed by LIN<span style=\"font-weight: bold\">)</span>               <a href=\"file:///mnt/data/miniforge3/envs/onebind/lib/python3.9/site-packages/graphein/protein/edges/distance.py\" target=\"_blank\"><span style=\"color: #7f7f7f; text-decoration-color: #7f7f7f\">distance.py</span></a><span style=\"color: #7f7f7f; text-decoration-color: #7f7f7f\">:</span><a href=\"file:///mnt/data/miniforge3/envs/onebind/lib/python3.9/site-packages/graphein/protein/edges/distance.py#983\" target=\"_blank\"><span style=\"color: #7f7f7f; text-decoration-color: #7f7f7f\">983</span></a>\n",
       "</pre>\n"
      ],
      "text/plain": [
       "\u001b[2;36m                   \u001b[0m\u001b[2;36m \u001b[0m\u001b[34mINFO    \u001b[0m Added \u001b[1;36m2912\u001b[0m distance edges. \u001b[1m(\u001b[0m\u001b[1;36m0\u001b[0m            removed by LIN\u001b[1m)\u001b[0m               \u001b]8;id=83582;file:///mnt/data/miniforge3/envs/onebind/lib/python3.9/site-packages/graphein/protein/edges/distance.py\u001b\\\u001b[2mdistance.py\u001b[0m\u001b]8;;\u001b\\\u001b[2m:\u001b[0m\u001b]8;id=925850;file:///mnt/data/miniforge3/envs/onebind/lib/python3.9/site-packages/graphein/protein/edges/distance.py#983\u001b\\\u001b[2m983\u001b[0m\u001b]8;;\u001b\\\n"
      ]
     },
     "metadata": {},
     "output_type": "display_data"
    },
    {
     "data": {
      "text/html": [
       "<pre style=\"white-space:pre;overflow-x:auto;line-height:normal;font-family:Menlo,'DejaVu Sans Mono',consolas,'Courier New',monospace\"></pre>\n"
      ],
      "text/plain": []
     },
     "metadata": {},
     "output_type": "display_data"
    },
    {
     "data": {
      "text/html": [
       "<pre style=\"white-space:pre;overflow-x:auto;line-height:normal;font-family:Menlo,'DejaVu Sans Mono',consolas,'Courier New',monospace\">\n",
       "</pre>\n"
      ],
      "text/plain": [
       "\n"
      ]
     },
     "metadata": {},
     "output_type": "display_data"
    },
    {
     "name": "stdout",
     "output_type": "stream",
     "text": [
      "Protein 4ytc:\n",
      "Node features: torch.Size([284, 1284])\n",
      "Edge index: torch.Size([2, 2628])\n",
      "3D coordinates: torch.Size([284, 3])\n"
     ]
    },
    {
     "name": "stderr",
     "output_type": "stream",
     "text": [
      "/tmp/ipykernel_3446583/2756297163.py:72: UserWarning: Creating a tensor from a list of numpy.ndarrays is extremely slow. Please consider converting the list to a single numpy.ndarray with numpy.array() before converting to a tensor. (Triggered internally at /opt/conda/conda-bld/pytorch_1678402374358/work/torch/csrc/utils/tensor_new.cpp:245.)\n",
      "  pos = torch.tensor([g.nodes[node_id]['coords'] for node_id in node_ids])\n"
     ]
    }
   ],
   "source": [
    "import torch\n",
    "import numpy as np\n",
    "from torch_geometric.data import Data\n",
    "from graphein.protein.config import ProteinGraphConfig\n",
    "from graphein.protein.graphs import construct_graph\n",
    "from graphein.protein.edges.distance import add_distance_threshold\n",
    "from functools import partial\n",
    "import esm\n",
    "import networkx as nx\n",
    "\n",
    "# Load ESM-2 model\n",
    "protein_model, alphabet = esm.pretrained.esm2_t33_650M_UR50D()\n",
    "batch_converter = alphabet.get_batch_converter()\n",
    "protein_model.eval()\n",
    "\n",
    "# Configure Graphein\n",
    "config = ProteinGraphConfig(\n",
    "    edge_construction_functions=[\n",
    "        partial(add_distance_threshold, long_interaction_threshold=0, threshold=8)\n",
    "    ]\n",
    ")\n",
    "\n",
    "def get_esm2_embedding(seq, pdb_id):\n",
    "    # Handle sequences longer than 1022 residues\n",
    "    seq_feat = []\n",
    "    for i in range(0, len(seq), 1022):\n",
    "        data = [(pdb_id, seq[i:i+1022])]\n",
    "        batch_labels, batch_strs, batch_tokens = batch_converter(data)\n",
    "        with torch.no_grad():\n",
    "            results = protein_model(batch_tokens, repr_layers=[33], return_contacts=True)\n",
    "        token_representations = results[\"representations\"][33]\n",
    "        seq_feat.append(token_representations.squeeze(0)[1:len(data[0][1])+1])\n",
    "    seq_feat = torch.cat(seq_feat, dim=0)\n",
    "    \n",
    "    return seq_feat\n",
    "\n",
    "def adj2edge_index(adj):\n",
    "    # Convert adjacency matrix to edge index format\n",
    "    return adj.nonzero().t().contiguous()\n",
    "\n",
    "def protein_graph(pdb_path, pdb_id):\n",
    "    # Construct graph using Graphein\n",
    "    try:\n",
    "        g = construct_graph(config=config, path=pdb_path)\n",
    "    except Exception as e:\n",
    "        print(f\"Error constructing graph for {pdb_id}: {e}\")\n",
    "        return None\n",
    "    \n",
    "    # Extract sequence\n",
    "    seq = ''.join(g.graph[key] for key in g.graph.keys() if key.startswith(\"sequence_\"))\n",
    "    \n",
    "    # Get node features using ESM-2\n",
    "    node_feat = get_esm2_embedding(seq, pdb_id)\n",
    "    \n",
    "    # Build edges\n",
    "    A = nx.to_numpy_array(g, nonedge=0, weight='distance')\n",
    "    edge_index = adj2edge_index(torch.tensor(A))\n",
    "    \n",
    "    # Add extra structural information\n",
    "    node_ids = list(g.nodes())\n",
    "    extra_features = torch.tensor([\n",
    "        [g.nodes[node_id].get('is_helix', 0),\n",
    "         g.nodes[node_id].get('is_sheet', 0),\n",
    "         g.nodes[node_id].get('is_turn', 0),\n",
    "         g.nodes[node_id].get('solvent_accessibility', 0)]\n",
    "        for node_id in node_ids\n",
    "    ])\n",
    "    \n",
    "    node_feat = torch.cat([node_feat, extra_features], dim=1)\n",
    "    \n",
    "    # Create Data object\n",
    "    pos = torch.tensor([g.nodes[node_id]['coords'] for node_id in node_ids])\n",
    "    data = Data(x=node_feat, edge_index=edge_index, pos=pos)\n",
    "    \n",
    "    return data\n",
    "\n",
    "# Usage example\n",
    "if __name__ == \"__main__\":\n",
    "    pdb_path = \"./../Testset/4ytc/4ytc_protein.pdb\"\n",
    "    pdb_id = \"4ytc\"  # Example PDB ID\n",
    "    \n",
    "    protein_graph_data = protein_graph(pdb_path, pdb_id)\n",
    "    \n",
    "    if protein_graph_data is not None:\n",
    "        print(f\"Protein {pdb_id}:\")\n",
    "        print(f\"Node features: {protein_graph_data.x.shape}\")\n",
    "        print(f\"Edge index: {protein_graph_data.edge_index.shape}\")\n",
    "        print(f\"3D coordinates: {protein_graph_data.pos.shape}\")\n",
    "    else:\n",
    "        print(f\"Failed to create graph for {pdb_id}\")"
   ]
  }
 ],
 "metadata": {
  "kernelspec": {
   "display_name": "torch",
   "language": "python",
   "name": "python3"
  },
  "language_info": {
   "codemirror_mode": {
    "name": "ipython",
    "version": 3
   },
   "file_extension": ".py",
   "mimetype": "text/x-python",
   "name": "python",
   "nbconvert_exporter": "python",
   "pygments_lexer": "ipython3",
   "version": "3.9.19"
  }
 },
 "nbformat": 4,
 "nbformat_minor": 2
}
