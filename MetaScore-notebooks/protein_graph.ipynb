{
 "cells": [
  {
   "cell_type": "code",
   "execution_count": 1,
   "metadata": {},
   "outputs": [
    {
     "data": {
      "text/html": [
       "<pre style=\"white-space:pre;overflow-x:auto;line-height:normal;font-family:Menlo,'DejaVu Sans Mono',consolas,'Courier New',monospace\"><span style=\"color: #7fbfbf; text-decoration-color: #7fbfbf\">[09/08/24 22:02:09] </span><span style=\"color: #808000; text-decoration-color: #808000\">WARNING </span> To use the Graphein submodule                                         <a href=\"file:///Users/megagatlingpea/miniforge3/envs/torch/lib/python3.11/site-packages/graphein/protein/features/sequence/embeddings.py\" target=\"_blank\"><span style=\"color: #7f7f7f; text-decoration-color: #7f7f7f\">embeddings.py</span></a><span style=\"color: #7f7f7f; text-decoration-color: #7f7f7f\">:</span><a href=\"file:///Users/megagatlingpea/miniforge3/envs/torch/lib/python3.11/site-packages/graphein/protein/features/sequence/embeddings.py#45\" target=\"_blank\"><span style=\"color: #7f7f7f; text-decoration-color: #7f7f7f\">45</span></a>\n",
       "<span style=\"color: #7fbfbf; text-decoration-color: #7fbfbf\">                    </span>         graphein.protein.features.sequence.embeddings, you need to install:   <span style=\"color: #7f7f7f; text-decoration-color: #7f7f7f\">                </span>\n",
       "<span style=\"color: #7fbfbf; text-decoration-color: #7fbfbf\">                    </span>         biovec                                                                <span style=\"color: #7f7f7f; text-decoration-color: #7f7f7f\">                </span>\n",
       "<span style=\"color: #7fbfbf; text-decoration-color: #7fbfbf\">                    </span>         biovec cannot be installed via conda                                  <span style=\"color: #7f7f7f; text-decoration-color: #7f7f7f\">                </span>\n",
       "<span style=\"color: #7fbfbf; text-decoration-color: #7fbfbf\">                    </span>         Alternatively, you can install graphein with the extras:              <span style=\"color: #7f7f7f; text-decoration-color: #7f7f7f\">                </span>\n",
       "<span style=\"color: #7fbfbf; text-decoration-color: #7fbfbf\">                    </span>                                                                               <span style=\"color: #7f7f7f; text-decoration-color: #7f7f7f\">                </span>\n",
       "<span style=\"color: #7fbfbf; text-decoration-color: #7fbfbf\">                    </span>         pip install graphein<span style=\"font-weight: bold\">[</span>extras<span style=\"font-weight: bold\">]</span>                                          <span style=\"color: #7f7f7f; text-decoration-color: #7f7f7f\">                </span>\n",
       "</pre>\n"
      ],
      "text/plain": [
       "\u001b[2;36m[09/08/24 22:02:09]\u001b[0m\u001b[2;36m \u001b[0m\u001b[33mWARNING \u001b[0m To use the Graphein submodule                                         \u001b]8;id=275180;file:///Users/megagatlingpea/miniforge3/envs/torch/lib/python3.11/site-packages/graphein/protein/features/sequence/embeddings.py\u001b\\\u001b[2membeddings.py\u001b[0m\u001b]8;;\u001b\\\u001b[2m:\u001b[0m\u001b]8;id=490177;file:///Users/megagatlingpea/miniforge3/envs/torch/lib/python3.11/site-packages/graphein/protein/features/sequence/embeddings.py#45\u001b\\\u001b[2m45\u001b[0m\u001b]8;;\u001b\\\n",
       "\u001b[2;36m                    \u001b[0m         graphein.protein.features.sequence.embeddings, you need to install:   \u001b[2m                \u001b[0m\n",
       "\u001b[2;36m                    \u001b[0m         biovec                                                                \u001b[2m                \u001b[0m\n",
       "\u001b[2;36m                    \u001b[0m         biovec cannot be installed via conda                                  \u001b[2m                \u001b[0m\n",
       "\u001b[2;36m                    \u001b[0m         Alternatively, you can install graphein with the extras:              \u001b[2m                \u001b[0m\n",
       "\u001b[2;36m                    \u001b[0m                                                                               \u001b[2m                \u001b[0m\n",
       "\u001b[2;36m                    \u001b[0m         pip install graphein\u001b[1m[\u001b[0mextras\u001b[1m]\u001b[0m                                          \u001b[2m                \u001b[0m\n"
      ]
     },
     "metadata": {},
     "output_type": "display_data"
    },
    {
     "data": {
      "text/html": [
       "<pre style=\"white-space:pre;overflow-x:auto;line-height:normal;font-family:Menlo,'DejaVu Sans Mono',consolas,'Courier New',monospace\"><span style=\"color: #7fbfbf; text-decoration-color: #7fbfbf\">                    </span><span style=\"color: #808000; text-decoration-color: #808000\">WARNING </span> To use the Graphein submodule graphein.protein.visualisation, you  <a href=\"file:///Users/megagatlingpea/miniforge3/envs/torch/lib/python3.11/site-packages/graphein/protein/visualisation.py\" target=\"_blank\"><span style=\"color: #7f7f7f; text-decoration-color: #7f7f7f\">visualisation.py</span></a><span style=\"color: #7f7f7f; text-decoration-color: #7f7f7f\">:</span><a href=\"file:///Users/megagatlingpea/miniforge3/envs/torch/lib/python3.11/site-packages/graphein/protein/visualisation.py#36\" target=\"_blank\"><span style=\"color: #7f7f7f; text-decoration-color: #7f7f7f\">36</span></a>\n",
       "<span style=\"color: #7fbfbf; text-decoration-color: #7fbfbf\">                    </span>         need to install: pytorch3d                                         <span style=\"color: #7f7f7f; text-decoration-color: #7f7f7f\">                   </span>\n",
       "<span style=\"color: #7fbfbf; text-decoration-color: #7fbfbf\">                    </span>         To do so, use the following command: conda install -c pytorch3d    <span style=\"color: #7f7f7f; text-decoration-color: #7f7f7f\">                   </span>\n",
       "<span style=\"color: #7fbfbf; text-decoration-color: #7fbfbf\">                    </span>         pytorch3d                                                          <span style=\"color: #7f7f7f; text-decoration-color: #7f7f7f\">                   </span>\n",
       "</pre>\n"
      ],
      "text/plain": [
       "\u001b[2;36m                   \u001b[0m\u001b[2;36m \u001b[0m\u001b[33mWARNING \u001b[0m To use the Graphein submodule graphein.protein.visualisation, you  \u001b]8;id=234218;file:///Users/megagatlingpea/miniforge3/envs/torch/lib/python3.11/site-packages/graphein/protein/visualisation.py\u001b\\\u001b[2mvisualisation.py\u001b[0m\u001b]8;;\u001b\\\u001b[2m:\u001b[0m\u001b]8;id=188480;file:///Users/megagatlingpea/miniforge3/envs/torch/lib/python3.11/site-packages/graphein/protein/visualisation.py#36\u001b\\\u001b[2m36\u001b[0m\u001b]8;;\u001b\\\n",
       "\u001b[2;36m                    \u001b[0m         need to install: pytorch3d                                         \u001b[2m                   \u001b[0m\n",
       "\u001b[2;36m                    \u001b[0m         To do so, use the following command: conda install -c pytorch3d    \u001b[2m                   \u001b[0m\n",
       "\u001b[2;36m                    \u001b[0m         pytorch3d                                                          \u001b[2m                   \u001b[0m\n"
      ]
     },
     "metadata": {},
     "output_type": "display_data"
    },
    {
     "data": {
      "text/html": [
       "<pre style=\"white-space:pre;overflow-x:auto;line-height:normal;font-family:Menlo,'DejaVu Sans Mono',consolas,'Courier New',monospace\"><span style=\"color: #7fbfbf; text-decoration-color: #7fbfbf\">                    </span><span style=\"color: #808000; text-decoration-color: #808000\">WARNING </span> To use the Graphein submodule graphein.protein.meshes, you need to        <a href=\"file:///Users/megagatlingpea/miniforge3/envs/torch/lib/python3.11/site-packages/graphein/protein/meshes.py\" target=\"_blank\"><span style=\"color: #7f7f7f; text-decoration-color: #7f7f7f\">meshes.py</span></a><span style=\"color: #7f7f7f; text-decoration-color: #7f7f7f\">:</span><a href=\"file:///Users/megagatlingpea/miniforge3/envs/torch/lib/python3.11/site-packages/graphein/protein/meshes.py#30\" target=\"_blank\"><span style=\"color: #7f7f7f; text-decoration-color: #7f7f7f\">30</span></a>\n",
       "<span style=\"color: #7fbfbf; text-decoration-color: #7fbfbf\">                    </span>         install: pytorch3d                                                        <span style=\"color: #7f7f7f; text-decoration-color: #7f7f7f\">            </span>\n",
       "<span style=\"color: #7fbfbf; text-decoration-color: #7fbfbf\">                    </span>         To do so, use the following command: conda install -c pytorch3d pytorch3d <span style=\"color: #7f7f7f; text-decoration-color: #7f7f7f\">            </span>\n",
       "</pre>\n"
      ],
      "text/plain": [
       "\u001b[2;36m                   \u001b[0m\u001b[2;36m \u001b[0m\u001b[33mWARNING \u001b[0m To use the Graphein submodule graphein.protein.meshes, you need to        \u001b]8;id=296451;file:///Users/megagatlingpea/miniforge3/envs/torch/lib/python3.11/site-packages/graphein/protein/meshes.py\u001b\\\u001b[2mmeshes.py\u001b[0m\u001b]8;;\u001b\\\u001b[2m:\u001b[0m\u001b]8;id=783704;file:///Users/megagatlingpea/miniforge3/envs/torch/lib/python3.11/site-packages/graphein/protein/meshes.py#30\u001b\\\u001b[2m30\u001b[0m\u001b]8;;\u001b\\\n",
       "\u001b[2;36m                    \u001b[0m         install: pytorch3d                                                        \u001b[2m            \u001b[0m\n",
       "\u001b[2;36m                    \u001b[0m         To do so, use the following command: conda install -c pytorch3d pytorch3d \u001b[2m            \u001b[0m\n"
      ]
     },
     "metadata": {},
     "output_type": "display_data"
    },
    {
     "ename": "AttributeError",
     "evalue": "module 'esm' has no attribute 'pretrained'",
     "output_type": "error",
     "traceback": [
      "\u001b[0;31m---------------------------------------------------------------------------\u001b[0m",
      "\u001b[0;31mAttributeError\u001b[0m                            Traceback (most recent call last)",
      "Cell \u001b[0;32mIn[1], line 11\u001b[0m\n\u001b[1;32m      8\u001b[0m \u001b[38;5;28;01mimport\u001b[39;00m \u001b[38;5;21;01mnetworkx\u001b[39;00m \u001b[38;5;28;01mas\u001b[39;00m \u001b[38;5;21;01mnx\u001b[39;00m\n\u001b[1;32m     10\u001b[0m \u001b[38;5;66;03m# Load ESM-2 model\u001b[39;00m\n\u001b[0;32m---> 11\u001b[0m protein_model, alphabet \u001b[38;5;241m=\u001b[39m \u001b[43mesm\u001b[49m\u001b[38;5;241;43m.\u001b[39;49m\u001b[43mpretrained\u001b[49m\u001b[38;5;241m.\u001b[39mesm2_t33_650M_UR50D()\n\u001b[1;32m     12\u001b[0m batch_converter \u001b[38;5;241m=\u001b[39m alphabet\u001b[38;5;241m.\u001b[39mget_batch_converter()\n\u001b[1;32m     13\u001b[0m protein_model\u001b[38;5;241m.\u001b[39meval()\n",
      "\u001b[0;31mAttributeError\u001b[0m: module 'esm' has no attribute 'pretrained'"
     ]
    }
   ],
   "source": [
    "import torch\n",
    "from torch_geometric.data import Data\n",
    "from graphein.protein.config import ProteinGraphConfig\n",
    "from graphein.protein.graphs import construct_graph\n",
    "from graphein.protein.edges.distance import add_distance_threshold\n",
    "from functools import partial\n",
    "import esm\n",
    "import networkx as nx\n",
    "\n",
    "# Load ESM-2 model\n",
    "protein_model, alphabet = esm.pretrained.esm2_t33_650M_UR50D()\n",
    "batch_converter = alphabet.get_batch_converter()\n",
    "protein_model.eval()\n",
    "\n",
    "# Configure Graphein\n",
    "config = ProteinGraphConfig(\n",
    "    edge_construction_functions=[\n",
    "        partial(add_distance_threshold, long_interaction_threshold=0, threshold=8)\n",
    "    ]\n",
    ")\n",
    "\n",
    "def get_esm2_embedding(seq, pdb_id):\n",
    "    # Handle sequences longer than 1022 residues\n",
    "    if len(seq) > 1022:\n",
    "        seq_feat = []\n",
    "        for i in range(0, len(seq), 1022):\n",
    "            data = [(pdb_id, seq[i:i+1022])]\n",
    "            batch_labels, batch_strs, batch_tokens = batch_converter(data)\n",
    "            with torch.no_grad():\n",
    "                results = protein_model(batch_tokens, repr_layers=[33], return_contacts=True)\n",
    "            token_representations = results[\"representations\"][33]\n",
    "            seq_feat.append(token_representations.squeeze(0)[1:len(data[0][1])+1])\n",
    "        seq_feat = torch.cat(seq_feat, dim=0)\n",
    "    else:\n",
    "        data = [(pdb_id, seq)]\n",
    "        batch_labels, batch_strs, batch_tokens = batch_converter(data)\n",
    "        with torch.no_grad():\n",
    "            results = protein_model(batch_tokens, repr_layers=[33], return_contacts=True)\n",
    "        token_representations = results[\"representations\"][33]\n",
    "        seq_feat = token_representations.squeeze(0)[1:len(data[0][1])+1]\n",
    "    \n",
    "    return seq_feat\n",
    "\n",
    "def adj2edge_index(adj):\n",
    "    # Convert adjacency matrix to edge index format\n",
    "    edge_index = adj.nonzero().t().contiguous()\n",
    "    return edge_index\n",
    "\n",
    "def protein_graph(pdb_path, pdb_id):\n",
    "    # Construct graph using Graphein\n",
    "    g = construct_graph(config=config, pdb_path=f\"{pdb_path}\")\n",
    "    \n",
    "    # Extract sequence\n",
    "    seq = ''.join(g.graph[key] for key in g.graph.keys() if key.startswith(\"sequence_\"))\n",
    "    \n",
    "    # Get node features using ESM-2\n",
    "    node_feat = get_esm2_embedding(seq, pdb_id)\n",
    "    \n",
    "    # Build edges\n",
    "    A = nx.to_numpy_array(g, nonedge=0, weight='distance')\n",
    "    edge_index = adj2edge_index(torch.tensor(A))\n",
    "    \n",
    "    # Add extra structural information\n",
    "    extra_features = torch.tensor([\n",
    "        [g.nodes[i].get('is_helix', 0),\n",
    "         g.nodes[i].get('is_sheet', 0),\n",
    "         g.nodes[i].get('is_turn', 0),\n",
    "         g.nodes[i].get('solvent_accessibility', 0)] \n",
    "        for i in range(len(seq))\n",
    "    ])\n",
    "    \n",
    "    node_feat = torch.cat([node_feat, extra_features], dim=1)\n",
    "    \n",
    "    # Create Data object\n",
    "    data = Data(x=node_feat, edge_index=edge_index, pos=torch.tensor([g.nodes[i]['coords'] for i in range(len(seq))]))\n",
    "    \n",
    "    return data\n",
    "\n",
    "# Usage example\n",
    "if __name__ == \"__main__\":\n",
    "    pdb_path = \"./../Testset/1a1e/1a1e_protein.pdb\"\n",
    "    pdb_id = \"1a1e\"  # Example PDB ID\n",
    "    \n",
    "    protein_graph_data = protein_graph(pdb_path, pdb_id)\n",
    "    \n",
    "    print(f\"Protein {pdb_id}:\")\n",
    "    print(f\"Node features: {protein_graph_data.x.shape}\")\n",
    "    print(f\"Edge index: {protein_graph_data.edge_index.shape}\")\n",
    "    print(f\"3D coordinates: {protein_graph_data.pos.shape}\")"
   ]
  }
 ],
 "metadata": {
  "kernelspec": {
   "display_name": "torch",
   "language": "python",
   "name": "python3"
  },
  "language_info": {
   "codemirror_mode": {
    "name": "ipython",
    "version": 3
   },
   "file_extension": ".py",
   "mimetype": "text/x-python",
   "name": "python",
   "nbconvert_exporter": "python",
   "pygments_lexer": "ipython3",
   "version": "3.11.9"
  }
 },
 "nbformat": 4,
 "nbformat_minor": 2
}
