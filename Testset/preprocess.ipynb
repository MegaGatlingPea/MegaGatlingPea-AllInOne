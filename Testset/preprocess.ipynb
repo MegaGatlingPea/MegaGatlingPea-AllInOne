{
 "cells": [
  {
   "cell_type": "code",
   "execution_count": 1,
   "metadata": {},
   "outputs": [
    {
     "name": "stdout",
     "output_type": "stream",
     "text": [
      "Files copied successfully.\n"
     ]
    }
   ],
   "source": [
    "import pandas as pd\n",
    "# I need all 100 pdbids from csv and copy these dirs from /mnt/data/pdbbind2020-PL\n",
    "# show me the code\n",
    "import os\n",
    "import shutil\n",
    "\n",
    "# Read the CSV file\n",
    "df = pd.read_csv('pdbbind.csv')\n",
    "\n",
    "# Get the list of PDB IDs\n",
    "pdb_ids = df['pdb_id'].tolist()\n",
    "\n",
    "# Define the source directory\n",
    "source_dir = '/mnt/data/pdbbind2020-PL'\n",
    "\n",
    "# Define the destination directory\n",
    "destination_dir = '/home/megagatlingpea/workdir/MegaGatlingPea-AllInOne/Testset/'\n",
    "\n",
    "# Create the destination directory if it doesn't exist\n",
    "import shutil\n",
    "\n",
    "# Copy the files to the destination directory\n",
    "for pdb_id in pdb_ids:\n",
    "    source_path = os.path.join(source_dir, pdb_id)\n",
    "    destination_path = os.path.join(destination_dir, pdb_id)\n",
    "    shutil.copytree(source_path, destination_path)\n",
    "\n",
    "print(\"Files copied successfully.\")\n"
   ]
  }
 ],
 "metadata": {
  "kernelspec": {
   "display_name": "onebind",
   "language": "python",
   "name": "python3"
  },
  "language_info": {
   "codemirror_mode": {
    "name": "ipython",
    "version": 3
   },
   "file_extension": ".py",
   "mimetype": "text/x-python",
   "name": "python",
   "nbconvert_exporter": "python",
   "pygments_lexer": "ipython3",
   "version": "3.9.19"
  }
 },
 "nbformat": 4,
 "nbformat_minor": 2
}
