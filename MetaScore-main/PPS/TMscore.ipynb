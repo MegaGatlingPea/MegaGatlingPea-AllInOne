{
 "cells": [
  {
   "cell_type": "code",
   "execution_count": 4,
   "metadata": {},
   "outputs": [
    {
     "data": {
      "text/plain": [
       "1.0"
      ]
     },
     "execution_count": 4,
     "metadata": {},
     "output_type": "execute_result"
    }
   ],
   "source": [
    "import numpy as np\n",
    "from tmtools import tm_align\n",
    "from tmtools.io import get_structure, get_residue_data\n",
    "from tmtools.testing import get_pdb_path\n",
    "\n",
    "data_path = '/mnt/data/pdbbind2020-PL'\n",
    "\n",
    "with open(f'{data_path}/pdbbind_ids.txt', 'r') as f:\n",
    "    pdb_ids = [line.strip() for line in f]\n",
    "\n",
    "def tm_score(prot1,prot2,root_dir=data_path):\n",
    "    path1 = f'{root_dir}/{prot1}/{prot1}_protein.pdb'\n",
    "    path2 = f'{root_dir}/{prot2}/{prot2}_protein.pdb'\n",
    "    s1 = get_structure(path1); s2 = get_structure(path2)   \n",
    "    chain1 = next(s1.get_chains()); chain2 = next(s2.get_chains())\n",
    "    coords1, seq1 = get_residue_data(chain1); coords2, seq2 = get_residue_data(chain2)\n",
    "    res = tm_align(coords1, coords2, seq1, seq2)\n",
    "    return res.tm_norm_chain1 \n",
    "\n",
    "tm_score(pdb_ids[0],pdb_ids[0])  "
   ]
  }
 ],
 "metadata": {
  "kernelspec": {
   "display_name": "cheminfo",
   "language": "python",
   "name": "python3"
  },
  "language_info": {
   "codemirror_mode": {
    "name": "ipython",
    "version": 3
   },
   "file_extension": ".py",
   "mimetype": "text/x-python",
   "name": "python",
   "nbconvert_exporter": "python",
   "pygments_lexer": "ipython3",
   "version": "3.11.0"
  }
 },
 "nbformat": 4,
 "nbformat_minor": 2
}
