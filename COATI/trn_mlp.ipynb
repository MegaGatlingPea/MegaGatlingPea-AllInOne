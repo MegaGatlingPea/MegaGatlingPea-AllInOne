{
 "cells": [
  {
   "cell_type": "code",
   "execution_count": 1,
   "metadata": {},
   "outputs": [
    {
     "name": "stdout",
     "output_type": "stream",
     "text": [
      "Loading model from ./models/grande_closed.pkl\n",
      "Loading tokenizer may_closedparen from ./models/grande_closed.pkl\n",
      "number of parameters: 12.64M\n",
      "number of parameters Total: 2.44M xformer: 17.92M Total: 20.36M \n",
      "vocab_name not found in tokenizer_vocabs, trying to load from file\n",
      "Freezing encoder\n",
      "20561664 params frozen!\n"
     ]
    }
   ],
   "source": [
    "import torch\n",
    "import torch.nn as nn\n",
    "import torch.optim as optim\n",
    "from torch.utils.data import Dataset\n",
    "from torch.utils.data import DataLoader\n",
    "import tqdm\n",
    "import pandas as pd \n",
    "from rdkit import Chem\n",
    "\n",
    "from coati.models.regression.fc_resnet import FCResNet\n",
    "from coati.models.io.coati import load_e3gnn_smiles_clip_e2e\n",
    "from coati.generative.coati_purifications import embed_smiles_batch\n",
    "\n",
    "class PropertyPredictorResNet(FCResNet):\n",
    "    def __init__(\n",
    "        self,\n",
    "        input_dim,\n",
    "        features=256,\n",
    "        depth=5,\n",
    "        spectral_normalization=True,\n",
    "        coeff=0.95,\n",
    "        n_power_iterations=1,\n",
    "        dropout_rate=0.01,\n",
    "        num_outputs=1,\n",
    "        activation=\"relu\",\n",
    "    ):\n",
    "        super(PropertyPredictorResNet, self).__init__(\n",
    "            input_dim=input_dim,\n",
    "            features=features,\n",
    "            depth=depth,\n",
    "            spectral_normalization=spectral_normalization,\n",
    "            coeff=coeff,\n",
    "            n_power_iterations=n_power_iterations,\n",
    "            dropout_rate=dropout_rate,\n",
    "            num_outputs=num_outputs,\n",
    "            activation=activation,\n",
    "        )\n",
    "\n",
    "class MoleculePropertyDataset(Dataset):\n",
    "    def __init__(self, encodings, properties):\n",
    "        \"\"\"\n",
    "        参数:\n",
    "            encodings (torch.Tensor): 分子的编码向量。\n",
    "            properties (torch.Tensor): 对应的化学性质标签。\n",
    "        \"\"\"\n",
    "        self.encodings = encodings\n",
    "        self.properties = properties\n",
    "\n",
    "    def __len__(self):\n",
    "        return len(self.encodings)\n",
    "\n",
    "    def __getitem__(self, idx):\n",
    "        return {\n",
    "            'encoding': self.encodings[idx],\n",
    "            'property': self.properties[idx]\n",
    "        }\n",
    "\n",
    "DEVICE = torch.device(\"cuda:0\" if torch.cuda.is_available() else \"cpu\")\n",
    "\n",
    "smiles_data = pd.read_csv('./paddle_prediction/data/train.csv')\n",
    "smiles = list(smiles_data['smiles'])\n",
    "labels = torch.tensor(smiles_data['label'].values, dtype=torch.float32)\n",
    "\n",
    "# Model parameters are pulled from the url and stored in a local models/ dir.\n",
    "encoder, tokenizer = load_e3gnn_smiles_clip_e2e(\n",
    "    freeze=True,\n",
    "    device=DEVICE, \n",
    "    # model parameters to load.\n",
    "    doc_url=\"./models/grande_closed.pkl\",\n",
    ")\n",
    "\n",
    "encodings = embed_smiles_batch(smiles, encoder, tokenizer)\n",
    "encodings = encodings.cpu()  # Move to CPU if necessary\n",
    "\n",
    "dataset = MoleculePropertyDataset(encodings, labels)\n",
    "train_size = int(0.85 * len(dataset))\n",
    "val_size = len(dataset) - train_size\n",
    "train_dataset, val_dataset = torch.utils.data.random_split(dataset, [train_size, val_size])"
   ]
  },
  {
   "cell_type": "code",
   "execution_count": 3,
   "metadata": {},
   "outputs": [
    {
     "data": {
      "text/plain": [
       "torch.Size([256, 1])"
      ]
     },
     "execution_count": 3,
     "metadata": {},
     "output_type": "execute_result"
    }
   ],
   "source": [
    "trnset = list(train_dataset)\n",
    "trnset[0]['encoding'].unsqueeze(1).shape\n"
   ]
  }
 ],
 "metadata": {
  "kernelspec": {
   "display_name": "ecloudgen",
   "language": "python",
   "name": "python3"
  },
  "language_info": {
   "codemirror_mode": {
    "name": "ipython",
    "version": 3
   },
   "file_extension": ".py",
   "mimetype": "text/x-python",
   "name": "python",
   "nbconvert_exporter": "python",
   "pygments_lexer": "ipython3",
   "version": "3.9.19"
  }
 },
 "nbformat": 4,
 "nbformat_minor": 2
}
