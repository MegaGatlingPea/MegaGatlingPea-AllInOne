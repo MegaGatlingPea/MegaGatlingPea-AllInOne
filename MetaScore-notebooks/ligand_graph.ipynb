{
 "cells": [
  {
   "cell_type": "code",
   "execution_count": 1,
   "metadata": {},
   "outputs": [
    {
     "name": "stdout",
     "output_type": "stream",
     "text": [
      "成功创建PyG Data对象:\n",
      "节点特征: torch.Size([42, 9])\n",
      "边索引: torch.Size([2, 90])\n",
      "边属性: torch.Size([90, 3])\n",
      "3D坐标: torch.Size([42, 3])\n"
     ]
    },
    {
     "name": "stderr",
     "output_type": "stream",
     "text": [
      "[18:57:26] Warning: molecule is tagged as 2D, but at least one Z coordinate is not zero. Marking the mol as 3D.\n"
     ]
    }
   ],
   "source": [
    "import torch\n",
    "from torch_geometric.data import Data\n",
    "from rdkit import Chem\n",
    "from rdkit.Chem import AllChem\n",
    "import numpy as np\n",
    "\n",
    "def sdf_to_pyg_data(sdf_file):\n",
    "    # 读取SDF文件\n",
    "    mol = Chem.SDMolSupplier(sdf_file, removeHs=False)[0]\n",
    "    if mol is None:\n",
    "        raise ValueError(f\"无法读取SDF文件: {sdf_file}\")\n",
    "\n",
    "    # 提取原子特征\n",
    "    atom_features = []\n",
    "    for atom in mol.GetAtoms():\n",
    "        features = [\n",
    "            atom.GetAtomicNum(),\n",
    "            atom.GetChiralTag(),\n",
    "            atom.GetDegree(),\n",
    "            atom.GetFormalCharge(),\n",
    "            atom.GetNumExplicitHs(),\n",
    "            atom.GetNumRadicalElectrons(),\n",
    "            atom.GetHybridization(),\n",
    "            atom.GetIsAromatic(),\n",
    "            atom.IsInRing()\n",
    "        ]\n",
    "        atom_features.append(features)\n",
    "\n",
    "    # 提取化学键信息和构建边索引\n",
    "    edge_indices = []\n",
    "    edge_attributes = []\n",
    "    for bond in mol.GetBonds():\n",
    "        i = bond.GetBeginAtomIdx()\n",
    "        j = bond.GetEndAtomIdx()\n",
    "        edge_indices += [[i, j], [j, i]]\n",
    "        \n",
    "        bond_type = bond.GetBondType()\n",
    "        bond_stereo = bond.GetStereo()\n",
    "        is_conjugated = bond.GetIsConjugated()\n",
    "        \n",
    "        edge_attributes += [[bond_type, bond_stereo, is_conjugated]] * 2\n",
    "\n",
    "    # 获取3D坐标\n",
    "    conf = mol.GetConformer()\n",
    "    positions = conf.GetPositions()\n",
    "\n",
    "    # 转换为PyTorch张量\n",
    "    x = torch.tensor(atom_features, dtype=torch.float)\n",
    "    edge_index = torch.tensor(edge_indices, dtype=torch.long).t().contiguous()\n",
    "    edge_attr = torch.tensor(edge_attributes, dtype=torch.float)\n",
    "    pos = torch.tensor(positions, dtype=torch.float)\n",
    "\n",
    "    # 创建Data对象\n",
    "    data = Data(x=x, edge_index=edge_index, edge_attr=edge_attr, pos=pos)\n",
    "\n",
    "    return data\n",
    "\n",
    "# 使用示例\n",
    "if __name__ == \"__main__\":\n",
    "    sdf_file = './../Testset/4ytc/4ytc_ligand.sdf'\n",
    "    try:\n",
    "        ligand_data = sdf_to_pyg_data(sdf_file)\n",
    "        print(f\"成功创建PyG Data对象:\")\n",
    "        print(f\"节点特征: {ligand_data.x.shape}\")\n",
    "        print(f\"边索引: {ligand_data.edge_index.shape}\")\n",
    "        print(f\"边属性: {ligand_data.edge_attr.shape}\")\n",
    "        print(f\"3D坐标: {ligand_data.pos.shape}\")\n",
    "    except Exception as e:\n",
    "        print(f\"处理SDF文件时出错: {str(e)}\")"
   ]
  }
 ],
 "metadata": {
  "kernelspec": {
   "display_name": "torch",
   "language": "python",
   "name": "python3"
  },
  "language_info": {
   "codemirror_mode": {
    "name": "ipython",
    "version": 3
   },
   "file_extension": ".py",
   "mimetype": "text/x-python",
   "name": "python",
   "nbconvert_exporter": "python",
   "pygments_lexer": "ipython3",
   "version": "3.9.19"
  }
 },
 "nbformat": 4,
 "nbformat_minor": 2
}
