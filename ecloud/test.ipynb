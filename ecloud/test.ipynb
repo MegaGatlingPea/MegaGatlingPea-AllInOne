{
 "cells": [
  {
   "cell_type": "code",
   "execution_count": 12,
   "metadata": {},
   "outputs": [
    {
     "data": {
      "text/plain": [
       "28"
      ]
     },
     "execution_count": 12,
     "metadata": {},
     "output_type": "execute_result"
    }
   ],
   "source": [
    "from coati.common.periodic_table import XY_ONE_HOT_FULL\n",
    "len(XY_ONE_HOT_FULL(1))"
   ]
  },
  {
   "cell_type": "code",
   "execution_count": 13,
   "metadata": {},
   "outputs": [],
   "source": [
    "import torch\n",
    "\"\"\"\n",
    "atoms: batch X max_n_atom long tensor of atomic numbers.\n",
    "coords: node coordinates.\n",
    "\"\"\"\n",
    "# prefer C2H6O and CH4 molecules as examples\n",
    "atoms = torch.tensor([[6, 6, 8, 1, 1, 1, 1, 1, 1], [6, 1, 1, 1, 1, 0, 0, 0, 0]])\n",
    "ans = atoms.tolist()\n",
    "nodes = torch.tensor(\n",
    "                    [[XY_ONE_HOT_FULL(int(atom)) for atom in mol] for mol in ans],  #transform atomic number into atomic table one-hot(x = 18, y = 10)\n",
    "                    dtype=torch.float32,\n",
    "                    device=atoms.device,\n",
    "                    requires_grad=False,\n",
    "                )"
   ]
  },
  {
   "cell_type": "markdown",
   "metadata": {},
   "source": [
    "## 模型运作模式\n",
    "### 1. 输入与编码（Encoding）\n",
    "#### SMILES/SELFIES 编码：\n",
    "使用 TrieTokenizer 对 SMILES 或 SELFIES 字符串进行分词。\n",
    "RotarySmilesTransformer 捕捉序列中的长距离依赖关系，生成嵌入表示。\n",
    "e3gnn_clip 图神经网络处理分子的图结构，提取图特征。\n",
    "\n",
    "#### 坐标与原子信息编码：\n",
    "e3gnn_clip 结合原子类型和空间坐标，生成节点特征。\n",
    "e_gcl_sparse 等变图卷积层负责消息传递和特征更新，保持空间等变性。\n",
    "\n",
    "#### eclouds 编码（可选）：\n",
    "通过 ecloud_encoder 将 eclouds 信息嵌入到潜在空间，增强模型的表示能力。\n",
    "\n",
    "### 2. 网络架构\n",
    "#### 编码器（Encoders）：\n",
    "图神经网络（e3gnn_clip）：提取分子的图结构特征，捕捉原子和键的关系。\n",
    "Transformer 编码器（RotarySmilesTransformer）：处理 SMILES/SELFIES 序列，生成序列嵌入。\n",
    "融合层：\n",
    "将图特征和序列特征通过 smiles_to_clip 或 point_to_clip 进行投影和融合，形成统一的潜在表示。\n",
    "#### 回归网络（regression）：\n",
    "使用 FCResNet 全连接残差网络，从融合后的特征中提取高层次表示，用于预测分子属性。\n",
    "\n",
    "### 3. 输出与预测\n",
    "#### 分子属性预测：\n",
    "回归网络输出分子的各类化学属性，如活性值、毒性等。\n",
    "使用适当的损失函数（如 MSE）进行训练和优化。\n",
    "#### 分子生成（可选）：\n",
    "利用编码后的潜在表示，通过 Transformer 解码生成新的 SMILES 或 SELFIES 字符串，实现分子生成。\n",
    "支持条件生成，通过注入特定嵌入（eclouds）控制生成分子的性质。\n",
    "\n",
    "### 数据流动示意图\n",
    "```\n",
    "输入分子数据（SMILES/SELFIES + 坐标）\n",
    "          │\n",
    "          ▼\n",
    "  分子表征编码（SMILES/SELFIES 令牌化）\n",
    "          │\n",
    "          ▼\n",
    "  Transformer 编码（RotarySmilesTransformer）\n",
    "          │\n",
    "          ▼\n",
    "   图神经网络编码（e3gnn_clip）\n",
    "          │\n",
    "          ▼\n",
    "  特征融合与投影（smiles_to_clip / point_to_clip）\n",
    "          │\n",
    "          ▼\n",
    "   回归网络（FCResNet）\n",
    "          │\n",
    "          ▼\n",
    "   分子属性预测输出\n",
    "```"
   ]
  },
  {
   "cell_type": "markdown",
   "metadata": {},
   "source": []
  },
  {
   "cell_type": "code",
   "execution_count": 14,
   "metadata": {},
   "outputs": [
    {
     "name": "stdout",
     "output_type": "stream",
     "text": [
      "[0, 1, 0, 0, 0, 0, 0, 0, 0, 0, 0, 0, 0, 0, 0, 0, 0, 0, 0, 1, 0, 0, 0, 0, 0, 0, 0, 0]\n"
     ]
    }
   ],
   "source": [
    "import coati\n",
    "import coati.common\n",
    "import coati.common.periodic_table\n",
    "\n",
    "in_node_nf = coati.common.periodic_table.XY_ONE_HOT_FULL(1)\n",
    "print(in_node_nf)"
   ]
  }
 ],
 "metadata": {
  "kernelspec": {
   "display_name": "ecloudgen",
   "language": "python",
   "name": "python3"
  },
  "language_info": {
   "codemirror_mode": {
    "name": "ipython",
    "version": 3
   },
   "file_extension": ".py",
   "mimetype": "text/x-python",
   "name": "python",
   "nbconvert_exporter": "python",
   "pygments_lexer": "ipython3",
   "version": "3.9.19"
  }
 },
 "nbformat": 4,
 "nbformat_minor": 2
}
