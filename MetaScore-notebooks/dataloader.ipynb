{
 "cells": [
  {
   "cell_type": "code",
   "execution_count": 27,
   "metadata": {},
   "outputs": [],
   "source": [
    "import lmdb\n",
    "import pickle\n",
    "import torch\n",
    "from torch.utils.data import Dataset, DataLoader\n",
    "from torch_geometric.data import Batch\n",
    "\n",
    "class PDBBindDataset(Dataset):\n",
    "    def __init__(self, lmdb_path=\"./../Testset/pdbbind.lmdb\"):\n",
    "        self.env = lmdb.open(lmdb_path, readonly=True, lock=False)\n",
    "        self.txn = self.env.begin()\n",
    "        self.data_dict = self._load_data()\n",
    "\n",
    "    def _load_data(self):\n",
    "        data_dict = {}\n",
    "        for key, value in self.txn.cursor():\n",
    "            cluster_data = pickle.loads(value)\n",
    "            for pdb_id, pdb_data in cluster_data.items():\n",
    "                data_dict[pdb_id] = pdb_data\n",
    "        return data_dict\n",
    "\n",
    "    def __len__(self):\n",
    "        return len(self.data_dict)\n",
    "\n",
    "    def __getitem__(self, idx):\n",
    "        pdb_id = list(self.data_dict.keys())[idx]\n",
    "        item = self.data_dict[pdb_id]\n",
    "        \n",
    "        protein_graph = item['protein_graph']\n",
    "        ligand_graph = item['ligand_graph']\n",
    "        kd_value = torch.tensor([item['kd_value']], dtype=torch.float)\n",
    "        \n",
    "        return protein_graph, ligand_graph, kd_value, pdb_id\n",
    "\n",
    "    def __del__(self):\n",
    "        self.env.close()\n",
    "\n",
    "def collate_fn(batch):\n",
    "    protein_graphs, ligand_graphs, kd_values, pdb_ids = zip(*batch)\n",
    "    \n",
    "    batched_protein_graphs = Batch.from_data_list(protein_graphs)\n",
    "    batched_ligand_graphs = Batch.from_data_list(ligand_graphs)\n",
    "    batched_kd_values = torch.cat(kd_values)\n",
    "    \n",
    "    return batched_protein_graphs, batched_ligand_graphs, batched_kd_values, pdb_ids\n",
    "\n",
    "# usage \n",
    "# lmdb_path = \"./../Testset/pdbbind.lmdb\"\n",
    "dataset = PDBBindDataset()\n",
    "dataloader = DataLoader(dataset, batch_size=4, shuffle=True, collate_fn=collate_fn)"
   ]
  },
  {
   "cell_type": "code",
   "execution_count": 28,
   "metadata": {},
   "outputs": [],
   "source": [
    "# example: a tuple contains protein_graph/molecule_graph/ke_value/pdb_id\n",
    "# batch refer to which graph the node belongs to\n",
    "# ptr\n",
    "'''\n",
    "protein_graph:DataBatch(\n",
    "    x=[batch_num_nodes,in_features],\n",
    "    edge_index=[2,num_edges],\n",
    "    pos=[batch_num_nodes,3],\n",
    "    batch=[batch_num_nodes],\n",
    "    ptr=[batch_size+1])\n",
    "molecule_graph:DataBatch(\n",
    "    x=[batch_num_nodes,in_features],\n",
    "    edge_index=[2,num_edges],\n",
    "    edge_attr=[num_edges,num_edge_features],\n",
    "    pos=[batch_num_nodes,3],\n",
    "    batch=[batch_num_nodes],\n",
    "    ptr=[batch_size+1])\n",
    "kd_value:tensor([batch_size])\n",
    "pdb_id:[batch_size]\n",
    "'''\n",
    "example=list(dataloader)[0]"
   ]
  },
  {
   "cell_type": "code",
   "execution_count": 29,
   "metadata": {},
   "outputs": [
    {
     "data": {
      "text/plain": [
       "(DataBatch(x=[1427, 1284], edge_index=[2, 13640], pos=[1427, 3], batch=[1427], ptr=[5]),\n",
       " DataBatch(x=[319, 9], edge_index=[2, 656], edge_attr=[656, 3], pos=[319, 3], batch=[319], ptr=[5]),\n",
       " tensor([4.3000, 3.3000, 6.6300, 4.4000]),\n",
       " ('5ivz', '5mt0', '4xrq', '3itu'))"
      ]
     },
     "execution_count": 29,
     "metadata": {},
     "output_type": "execute_result"
    }
   ],
   "source": [
    "example"
   ]
  }
 ],
 "metadata": {
  "kernelspec": {
   "display_name": "onebind",
   "language": "python",
   "name": "python3"
  },
  "language_info": {
   "codemirror_mode": {
    "name": "ipython",
    "version": 3
   },
   "file_extension": ".py",
   "mimetype": "text/x-python",
   "name": "python",
   "nbconvert_exporter": "python",
   "pygments_lexer": "ipython3",
   "version": "3.9.19"
  }
 },
 "nbformat": 4,
 "nbformat_minor": 2
}
