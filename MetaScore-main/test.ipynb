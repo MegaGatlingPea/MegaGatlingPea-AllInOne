{
 "cells": [
  {
   "cell_type": "code",
   "execution_count": 2,
   "metadata": {},
   "outputs": [],
   "source": [
    "from Data.dataloader import create_data_loaders\n",
    "\n",
    "# create dataloader randomly\n",
    "train_loader, val_loader, test_loader = create_data_loaders(cluster_data_dir='./cluster_data', batch_size=4)"
   ]
  },
  {
   "cell_type": "code",
   "execution_count": 4,
   "metadata": {},
   "outputs": [
    {
     "name": "stderr",
     "output_type": "stream",
     "text": [
      "/mnt/data/miniforge3/envs/onebind/lib/python3.9/site-packages/torch_geometric/data/collate.py:145: UserWarning: TypedStorage is deprecated. It will be removed in the future and UntypedStorage will be the only storage class. This should only matter to you if you are using storages directly.  To access UntypedStorage directly, use tensor.untyped_storage() instead of tensor.storage()\n",
      "  storage = elem.storage()._new_shared(numel)\n",
      "/mnt/data/miniforge3/envs/onebind/lib/python3.9/site-packages/torch_geometric/data/collate.py:145: UserWarning: TypedStorage is deprecated. It will be removed in the future and UntypedStorage will be the only storage class. This should only matter to you if you are using storages directly.  To access UntypedStorage directly, use tensor.untyped_storage() instead of tensor.storage()\n",
      "  storage = elem.storage()._new_shared(numel)\n",
      "/mnt/data/miniforge3/envs/onebind/lib/python3.9/site-packages/torch_geometric/data/collate.py:145: UserWarning: TypedStorage is deprecated. It will be removed in the future and UntypedStorage will be the only storage class. This should only matter to you if you are using storages directly.  To access UntypedStorage directly, use tensor.untyped_storage() instead of tensor.storage()\n",
      "  storage = elem.storage()._new_shared(numel)\n",
      "/mnt/data/miniforge3/envs/onebind/lib/python3.9/site-packages/torch_geometric/data/collate.py:145: UserWarning: TypedStorage is deprecated. It will be removed in the future and UntypedStorage will be the only storage class. This should only matter to you if you are using storages directly.  To access UntypedStorage directly, use tensor.untyped_storage() instead of tensor.storage()\n",
      "  storage = elem.storage()._new_shared(numel)\n"
     ]
    },
    {
     "data": {
      "text/plain": [
       "[[DataBatch(x=[1109, 1280], edge_index=[2, 10608], pos=[1109, 3], batch=[1109], ptr=[5]),\n",
       "  DataBatch(x=[158, 9], edge_index=[2, 332], edge_attr=[332, 3], pos=[158, 3], batch=[158], ptr=[5]),\n",
       "  tensor([9.4900, 4.8200, 7.8900, 6.2000]),\n",
       "  ['2gdo', '6h2t', '3uoh', '4gw6']],\n",
       " [DataBatch(x=[2022, 1280], edge_index=[2, 19422], pos=[2022, 3], batch=[2022], ptr=[5]),\n",
       "  DataBatch(x=[315, 9], edge_index=[2, 644], edge_attr=[644, 3], pos=[315, 3], batch=[315], ptr=[5]),\n",
       "  tensor([9.9500, 5.5700, 6.6000, 4.3000]),\n",
       "  ['4hvb', '2onb', '5l7e', '5ivz']],\n",
       " [DataBatch(x=[2151, 1280], edge_index=[2, 21816], pos=[2151, 3], batch=[2151], ptr=[5]),\n",
       "  DataBatch(x=[171, 9], edge_index=[2, 356], edge_attr=[356, 3], pos=[171, 3], batch=[171], ptr=[5]),\n",
       "  tensor([5.5100, 5.5500, 7.7400, 6.0000]),\n",
       "  ['5zu0', '1njc', '3twd', '2qa8']],\n",
       " [DataBatch(x=[1047, 1280], edge_index=[2, 10158], pos=[1047, 3], batch=[1047], ptr=[5]),\n",
       "  DataBatch(x=[171, 9], edge_index=[2, 354], edge_attr=[354, 3], pos=[171, 3], batch=[171], ptr=[5]),\n",
       "  tensor([4.7000, 5.6800, 9.0000, 7.2800]),\n",
       "  ['2xp6', '4c52', '3pa3', '5w12']],\n",
       " [DataBatch(x=[1880, 1280], edge_index=[2, 18932], pos=[1880, 3], batch=[1880], ptr=[5]),\n",
       "  DataBatch(x=[139, 9], edge_index=[2, 286], edge_attr=[286, 3], pos=[139, 3], batch=[139], ptr=[5]),\n",
       "  tensor([3.7000, 6.4800, 5.7400, 6.6000]),\n",
       "  ['1wht', '2w71', '6gu6', '3dln']],\n",
       " [DataBatch(x=[2542, 1280], edge_index=[2, 25998], pos=[2542, 3], batch=[2542], ptr=[5]),\n",
       "  DataBatch(x=[278, 9], edge_index=[2, 580], edge_attr=[580, 3], pos=[278, 3], batch=[278], ptr=[5]),\n",
       "  tensor([4.8800, 6.3000, 7.4800, 6.9600]),\n",
       "  ['3pjt', '1c9d', '4pgb', '1atr']],\n",
       " [DataBatch(x=[2007, 1280], edge_index=[2, 19718], pos=[2007, 3], batch=[2007], ptr=[5]),\n",
       "  DataBatch(x=[175, 9], edge_index=[2, 366], edge_attr=[366, 3], pos=[175, 3], batch=[175], ptr=[5]),\n",
       "  tensor([6.8000, 7.8900, 5.2000, 6.2600]),\n",
       "  ['4u0s', '4ytc', '5hg1', '6f1n']],\n",
       " [DataBatch(x=[1314, 1280], edge_index=[2, 13270], pos=[1314, 3], batch=[1314], ptr=[5]),\n",
       "  DataBatch(x=[221, 9], edge_index=[2, 446], edge_attr=[446, 3], pos=[221, 3], batch=[221], ptr=[5]),\n",
       "  tensor([6.0100, 6.8500, 5.1500, 8.2200]),\n",
       "  ['2vl4', '4gye', '1o0m', '2ow2']],\n",
       " [DataBatch(x=[3188, 1280], edge_index=[2, 31166], pos=[3188, 3], batch=[3188], ptr=[5]),\n",
       "  DataBatch(x=[152, 9], edge_index=[2, 308], edge_attr=[308, 3], pos=[152, 3], batch=[152], ptr=[5]),\n",
       "  tensor([5.3900, 4.4000, 6.6000, 4.3100]),\n",
       "  ['2h6b', '3itu', '3mpt', '3vb7']],\n",
       " [DataBatch(x=[2237, 1280], edge_index=[2, 21710], pos=[2237, 3], batch=[2237], ptr=[5]),\n",
       "  DataBatch(x=[397, 9], edge_index=[2, 812], edge_attr=[812, 3], pos=[397, 3], batch=[397], ptr=[5]),\n",
       "  tensor([8.0000, 6.5800, 5.4800, 8.5500]),\n",
       "  ['4zt4', '3sd5', '4x8p', '1hos']],\n",
       " [DataBatch(x=[1242, 1280], edge_index=[2, 12620], pos=[1242, 3], batch=[1242], ptr=[5]),\n",
       "  DataBatch(x=[327, 9], edge_index=[2, 668], edge_attr=[668, 3], pos=[327, 3], batch=[327], ptr=[5]),\n",
       "  tensor([7.9600, 6.3900, 7.9600, 8.0000]),\n",
       "  ['5ta2', '3v7d', '3mhc', '3gkz']],\n",
       " [DataBatch(x=[1418, 1280], edge_index=[2, 13918], pos=[1418, 3], batch=[1418], ptr=[5]),\n",
       "  DataBatch(x=[336, 9], edge_index=[2, 696], edge_attr=[696, 3], pos=[336, 3], batch=[336], ptr=[5]),\n",
       "  tensor([ 4.5000, 10.7200,  3.7500,  6.4700]),\n",
       "  ['5lj1', '3o9d', '3gep', '4zhl']],\n",
       " [DataBatch(x=[2716, 1280], edge_index=[2, 28790], pos=[2716, 3], batch=[2716], ptr=[5]),\n",
       "  DataBatch(x=[196, 9], edge_index=[2, 406], edge_attr=[406, 3], pos=[196, 3], batch=[196], ptr=[5]),\n",
       "  tensor([5.7800, 6.6200, 3.8900, 7.8800]),\n",
       "  ['5ha9', '1afk', '1m0q', '4ele']],\n",
       " [DataBatch(x=[1603, 1280], edge_index=[2, 15728], pos=[1603, 3], batch=[1603], ptr=[5]),\n",
       "  DataBatch(x=[190, 9], edge_index=[2, 392], edge_attr=[392, 3], pos=[190, 3], batch=[190], ptr=[5]),\n",
       "  tensor([3.5400, 5.0100, 7.0000, 5.8500]),\n",
       "  ['3nf9', '5am2', '4zlz', '4z2l']],\n",
       " [DataBatch(x=[1802, 1280], edge_index=[2, 18302], pos=[1802, 3], batch=[1802], ptr=[5]),\n",
       "  DataBatch(x=[242, 9], edge_index=[2, 496], edge_attr=[496, 3], pos=[242, 3], batch=[242], ptr=[5]),\n",
       "  tensor([6.6300, 3.6000, 5.6600, 5.6400]),\n",
       "  ['4xrq', '2q6h', '1pxk', '6fmp']],\n",
       " [DataBatch(x=[1501, 1280], edge_index=[2, 15594], pos=[1501, 3], batch=[1501], ptr=[5]),\n",
       "  DataBatch(x=[417, 9], edge_index=[2, 844], edge_attr=[844, 3], pos=[417, 3], batch=[417], ptr=[5]),\n",
       "  tensor([4.4200, 3.4900, 7.3400, 4.8200]),\n",
       "  ['5jcj', '5ybi', '5dqc', '2l11']],\n",
       " [DataBatch(x=[1123, 1280], edge_index=[2, 10508], pos=[1123, 3], batch=[1123], ptr=[5]),\n",
       "  DataBatch(x=[172, 9], edge_index=[2, 366], edge_attr=[366, 3], pos=[172, 3], batch=[172], ptr=[5]),\n",
       "  tensor([6.8700, 7.5300, 8.8000, 9.1500]),\n",
       "  ['6gl9', '2wu6', '3oaf', '4clj']],\n",
       " [DataBatch(x=[377, 1280], edge_index=[2, 3922], pos=[377, 3], batch=[377], ptr=[3]),\n",
       "  DataBatch(x=[88, 9], edge_index=[2, 182], edge_attr=[182, 3], pos=[88, 3], batch=[88], ptr=[3]),\n",
       "  tensor([8.2200, 6.9800]),\n",
       "  ['4bs5', '4av0']]]"
      ]
     },
     "execution_count": 4,
     "metadata": {},
     "output_type": "execute_result"
    }
   ],
   "source": [
    "list(train_loader)"
   ]
  }
 ],
 "metadata": {
  "kernelspec": {
   "display_name": "onebind",
   "language": "python",
   "name": "python3"
  },
  "language_info": {
   "codemirror_mode": {
    "name": "ipython",
    "version": 3
   },
   "file_extension": ".py",
   "mimetype": "text/x-python",
   "name": "python",
   "nbconvert_exporter": "python",
   "pygments_lexer": "ipython3",
   "version": "3.9.19"
  }
 },
 "nbformat": 4,
 "nbformat_minor": 2
}
