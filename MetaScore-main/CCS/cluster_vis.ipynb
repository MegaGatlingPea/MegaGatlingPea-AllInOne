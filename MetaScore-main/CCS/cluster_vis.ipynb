{
 "cells": [
  {
   "cell_type": "code",
   "execution_count": 4,
   "metadata": {},
   "outputs": [
    {
     "name": "stdout",
     "output_type": "stream",
     "text": [
      "Total samples: 19443\n",
      "Number of clusters: 1000\n",
      "Largest cluster size: 151\n",
      "Smallest cluster size: 3\n",
      "Average cluster size: 19.44\n",
      "Median cluster size: 16.0\n",
      "\n",
      "Top 10 largest clusters:\n",
      "Cluster\n",
      "10     151\n",
      "499    104\n",
      "94      82\n",
      "289     81\n",
      "180     81\n",
      "24      79\n",
      "139     58\n",
      "714     58\n",
      "112     56\n",
      "176     56\n",
      "Name: count, dtype: int64\n",
      "\n",
      "Number of single-sample clusters: 0\n",
      "\n",
      "Number of clusters in different size ranges:\n",
      "1-1: 0\n",
      "2-5: 18\n",
      "6-10: 195\n",
      "11-20: 449\n",
      "21-50: 321\n",
      "51-100: 15\n",
      "101-inf: 2\n"
     ]
    }
   ],
   "source": [
    "import pandas as pd\n",
    "import matplotlib.pyplot as plt\n",
    "\n",
    "# Read the file\n",
    "type = 'kmeans'\n",
    "df = pd.read_csv(f'pdbbind_cluster_{type}.txt', sep='\\t', header=None, names=['PDB_ID', 'Cluster'])\n",
    "\n",
    "# Calculate basic statistics\n",
    "total_samples = len(df)\n",
    "unique_clusters = df['Cluster'].nunique()\n",
    "cluster_sizes = df['Cluster'].value_counts()\n",
    "\n",
    "print(f\"Total samples: {total_samples}\")\n",
    "print(f\"Number of clusters: {unique_clusters}\")\n",
    "print(f\"Largest cluster size: {cluster_sizes.max()}\")\n",
    "print(f\"Smallest cluster size: {cluster_sizes.min()}\")\n",
    "print(f\"Average cluster size: {cluster_sizes.mean():.2f}\")\n",
    "print(f\"Median cluster size: {cluster_sizes.median()}\")\n",
    "\n",
    "# Plot histogram of cluster size distribution\n",
    "plt.figure(figsize=(10, 6))\n",
    "plt.hist(cluster_sizes, bins=50)\n",
    "plt.title(f'Cluster Size Distribution with {type} Clustering')\n",
    "plt.xlabel('Cluster Size')\n",
    "plt.ylabel('Frequency')\n",
    "plt.savefig(f'{type}_cluster_size_distribution.png')\n",
    "plt.close()\n",
    "\n",
    "# Output the top 10 largest clusters\n",
    "print(\"\\nTop 10 largest clusters:\")\n",
    "print(cluster_sizes.head(10))\n",
    "\n",
    "# Count the number of single-sample clusters\n",
    "single_sample_clusters = sum(cluster_sizes == 1)\n",
    "print(f\"\\nNumber of single-sample clusters: {single_sample_clusters}\")\n",
    "\n",
    "# Calculate the number of clusters in different size ranges\n",
    "size_ranges = [(1, 1), (2, 5), (6, 10), (11, 20), (21, 50), (51, 100), (101, float('inf'))]\n",
    "range_counts = {f\"{start}-{end}\": sum((cluster_sizes >= start) & (cluster_sizes <= end)) for start, end in size_ranges}\n",
    "\n",
    "print(\"\\nNumber of clusters in different size ranges:\")\n",
    "for range_name, count in range_counts.items():\n",
    "    print(f\"{range_name}: {count}\")\n"
   ]
  }
 ],
 "metadata": {
  "kernelspec": {
   "display_name": "cheminfo",
   "language": "python",
   "name": "python3"
  },
  "language_info": {
   "codemirror_mode": {
    "name": "ipython",
    "version": 3
   },
   "file_extension": ".py",
   "mimetype": "text/x-python",
   "name": "python",
   "nbconvert_exporter": "python",
   "pygments_lexer": "ipython3",
   "version": "3.11.0"
  }
 },
 "nbformat": 4,
 "nbformat_minor": 2
}
